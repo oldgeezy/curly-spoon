{
 "cells": [
  {
   "cell_type": "code",
   "execution_count": 1,
   "id": "important-support",
   "metadata": {},
   "outputs": [
    {
     "name": "stdout",
     "output_type": "stream",
     "text": [
      "Net Present Value(npv) :  -4195.272644412041\n"
     ]
    }
   ],
   "source": [
    "## Python program explaining pv() function\n",
    "import numpy_financial as npf\n",
    "import numpy as np\n",
    "\n",
    "import pint\n",
    "ureg = pint.UnitRegistry()\n",
    "ureg.define('dollar = 1')\n",
    "  \n",
    "#            rate            values     \n",
    "a =  npf.npv(0.1,[-50000, 5000, 5000, 5000, 5000, 5000, 5000, 5000, 5000, 5000, 5000, 5000, 5000, 5000, 5000, 5000, 5000, 5000, 5000, 5000, 5000, 5000, 5000, 5000, 5000, 5000, 5000])\n",
    "print(\"Net Present Value(npv) : \", a)"
   ]
  },
  {
   "cell_type": "code",
   "execution_count": 2,
   "id": "accompanied-luther",
   "metadata": {},
   "outputs": [
    {
     "data": {
      "text/plain": [
       "[5000.0, 5000.0, 5000.0, 5000.0, 5000.0]"
      ]
     },
     "execution_count": 2,
     "metadata": {},
     "output_type": "execute_result"
    }
   ],
   "source": [
    "arr = np.ones(5) * 5000\n",
    "arr.tolist()"
   ]
  },
  {
   "cell_type": "code",
   "execution_count": 3,
   "id": "satisfied-reducing",
   "metadata": {},
   "outputs": [
    {
     "name": "stdout",
     "output_type": "stream",
     "text": [
      "NPV still negative after 1000 tries.\n",
      "NPV: -12000.0\n"
     ]
    }
   ],
   "source": [
    "i = 1\n",
    "npv = -1\n",
    "tries = 1000\n",
    "\n",
    "while (npv < 0) & (i < tries):\n",
    "    arr = np.ones(i) * 100\n",
    "    arr = arr.tolist()\n",
    "    arr.insert(0, -13000)\n",
    "    npv = npf.npv(0.1, arr)\n",
    "    #print(\"NPV: \" + str(npv))\n",
    "    i += 1\n",
    "    \n",
    "if i < 1000:\n",
    "    print(\"NPV: \" + str(npv))\n",
    "    print(\"After \" + str(i) + \" months\")\n",
    "else:\n",
    "    print('NPV still negative after ' + str(i) + ' tries.')\n",
    "    print(\"NPV: \" + str(npv))\n",
    "    \n",
    "    "
   ]
  },
  {
   "cell_type": "code",
   "execution_count": 69,
   "id": "second-opera",
   "metadata": {},
   "outputs": [],
   "source": [
    "#Making some notes here from that Hilpisch Finance book\n",
    "\n",
    "#class definiteion statement\n",
    "class genset(object):\n",
    "    fuel_source = 'Natural Gas' #Definition of a class attribute (inherited by every instance)\n",
    "    def __init__(self, power, fuel): #Special method called during initialization\n",
    "        self.power = power #instance attributes\n",
    "        self.__fuel = fuel #two leading underscores = private instance attribute\n",
    "        # the private instance attribute I guess is for cases where you want to prohibit the user from mucking with a value and force them to use (more tightly controlled) methods to change it"
   ]
  },
  {
   "cell_type": "code",
   "execution_count": 70,
   "id": "adequate-capital",
   "metadata": {},
   "outputs": [],
   "source": [
    "mygen = genset(60, '800')"
   ]
  },
  {
   "cell_type": "code",
   "execution_count": 74,
   "id": "medium-assessment",
   "metadata": {},
   "outputs": [
    {
     "data": {
      "text/plain": [
       "'800'"
      ]
     },
     "execution_count": 74,
     "metadata": {},
     "output_type": "execute_result"
    }
   ],
   "source": [
    "1.00mygen._genset__fuel"
   ]
  },
  {
   "cell_type": "code",
   "execution_count": 68,
   "id": "emotional-rally",
   "metadata": {},
   "outputs": [],
   "source": [
    "mygen.fuel = 900"
   ]
  },
  {
   "cell_type": "code",
   "execution_count": 65,
   "id": "modern-parade",
   "metadata": {},
   "outputs": [],
   "source": []
  },
  {
   "cell_type": "code",
   "execution_count": 63,
   "id": "aggressive-grain",
   "metadata": {},
   "outputs": [],
   "source": [
    "fi = FinancialInstrument('aapl', 100)"
   ]
  },
  {
   "cell_type": "code",
   "execution_count": 64,
   "id": "enabling-genre",
   "metadata": {},
   "outputs": [
    {
     "data": {
      "text/plain": [
       "'Yves Hilpisch'"
      ]
     },
     "execution_count": 64,
     "metadata": {},
     "output_type": "execute_result"
    }
   ],
   "source": [
    "FinancialInstrument.author"
   ]
  },
  {
   "cell_type": "code",
   "execution_count": 4,
   "id": "aquatic-penguin",
   "metadata": {},
   "outputs": [
    {
     "data": {
      "text/plain": [
       "range(0, 1000)"
      ]
     },
     "execution_count": 4,
     "metadata": {},
     "output_type": "execute_result"
    }
   ],
   "source": [
    "range(tries)"
   ]
  },
  {
   "cell_type": "code",
   "execution_count": null,
   "id": "champion-midnight",
   "metadata": {},
   "outputs": [],
   "source": []
  }
 ],
 "metadata": {
  "kernelspec": {
   "display_name": "myenv",
   "language": "python",
   "name": "myenv"
  },
  "language_info": {
   "codemirror_mode": {
    "name": "ipython",
    "version": 3
   },
   "file_extension": ".py",
   "mimetype": "text/x-python",
   "name": "python",
   "nbconvert_exporter": "python",
   "pygments_lexer": "ipython3",
   "version": "3.8.10"
  }
 },
 "nbformat": 4,
 "nbformat_minor": 5
}
